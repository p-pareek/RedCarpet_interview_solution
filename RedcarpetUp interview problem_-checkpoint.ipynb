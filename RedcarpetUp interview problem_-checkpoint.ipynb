{
 "cells": [
  {
   "cell_type": "markdown",
   "metadata": {},
   "source": [
    "**CASE STUDY:**\n",
    "    \n",
    "\n",
    "\n",
    "Analyzing an affiliated credit card (special card only available to members of a specific group). Think of it like this -\n",
    "the credit card company is like Citibank and the affiliated group is a company like Indian Oil or Barista. The\n",
    "affiliated group has to pay some fees to credit card company (because the credit card company is providing this\n",
    "service to the group)"
   ]
  },
  {
   "cell_type": "code",
   "execution_count": 1,
   "metadata": {},
   "outputs": [],
   "source": [
    "#import required libraries\n",
    "import numpy as np\n",
    "import pandas as pd\n",
    "import matplotlib.pyplot as plt\n",
    "%matplotlib inline"
   ]
  },
  {
   "cell_type": "markdown",
   "metadata": {},
   "source": [
    "The given parameter of the calculation of profit and loss\n",
    "- average card balance is Rs 1000\n",
    "- each card has an interest rate of 15%\n",
    "- membership fee is Rs 20 per card\n",
    "- loss rate is 3% (NOTE: what are the interpretations of this ? state your assumption CLEARLY when solving )\n",
    "- Rs 25 operating cost per card\n",
    "- Rs 10 affiliation fee per card (cost to the group organization itself, so that their members get this awesome card program)\n",
    "- 6.5% cost of funds (that credit card company must pay to the bank where it gets money)\n",
    "- bill/statement is issued on 1st of every month\n",
    "- credit-free period = 15 days from the bill/statement issue date"
   ]
  },
  {
   "cell_type": "code",
   "execution_count": 2,
   "metadata": {},
   "outputs": [],
   "source": [
    "#initailization the given parameter\n",
    "\n",
    "#total number of customer\n",
    "total_cust=1000\n",
    "\n",
    "#let us consider that 95% of customer pay the bill on time\n",
    "cust_no_delay=0.95*1000\n",
    "\n",
    "#let us consider that 2% of customer pay the bill after 30 days\n",
    "cust_30_days=0.02*1000 \n",
    "\n",
    "#let us consider that 2% of customer pay the bill after 45 days\n",
    "cust_45_days=0.02*1000\n",
    "\n",
    "#let us consider that 1% of customer pay the bill after 60 days\n",
    "cust_60_days=0.01*1000  \n",
    "\n",
    "#monthly average balance\n",
    "monthly_bal=1000"
   ]
  },
  {
   "cell_type": "markdown",
   "metadata": {},
   "source": [
    "**Source of Reveneue generation per year**"
   ]
  },
  {
   "cell_type": "code",
   "execution_count": 3,
   "metadata": {},
   "outputs": [],
   "source": [
    "\n",
    "#membership fee is Rs 20 per card\n",
    "membership_card=20*total_cust*12\n",
    "\n",
    "#affiliation fee per card is Rs 10\n",
    "affiliation_fee=10*total_cust*12\n",
    "\n",
    "#interest rate is 15% for each card\n",
    "int_rate=0.15"
   ]
  },
  {
   "cell_type": "markdown",
   "metadata": {},
   "source": [
    "**Expenses for one year**"
   ]
  },
  {
   "cell_type": "code",
   "execution_count": 4,
   "metadata": {},
   "outputs": [],
   "source": [
    "# Bank lending money to the credit card company\n",
    "cost_of_funds=12*total_cust*0.065\n",
    "\n",
    "# Rs 25 operating cost per card\n",
    "operating_cost=12*25*1000 \n",
    "\n",
    "# 3% loss due to non-payment of credit card bills\n",
    "loss_rate=0.03 "
   ]
  },
  {
   "cell_type": "markdown",
   "metadata": {},
   "source": [
    "# Calculations-Scenario 1"
   ]
  },
  {
   "cell_type": "markdown",
   "metadata": {},
   "source": [
    "Provide a monthly calculation of profits/losses given :\n",
    "\n",
    "i) The interest rate is simple interest.\n",
    "\n",
    "ii) Interest is calculated on a daily basis.\n",
    "\n",
    "iii) The average card balance is the average end of month balance.\n",
    "\n",
    "iv) All members are more than a year old."
   ]
  },
  {
   "cell_type": "markdown",
   "metadata": {},
   "source": [
    "Consider 1000 customers for the above scenario, divide these 1000 customers into following groups(upon your\n",
    "assumption and understanding about the credit lending industry)\n",
    "1.customers who pay the bill within the credit-free period\n",
    "2.customers paying 30 days after the last due date\n",
    "3.customer paying 45 days after the last due date\n",
    "4.customer paying 60 days after the last due date(remove these customers for the complete calculation of the next\n",
    "month,basically, you are not supposed to provide further credit services to these customers)"
   ]
  },
  {
   "cell_type": "code",
   "execution_count": 5,
   "metadata": {},
   "outputs": [
    {
     "data": {
      "text/html": [
       "<div>\n",
       "<style scoped>\n",
       "    .dataframe tbody tr th:only-of-type {\n",
       "        vertical-align: middle;\n",
       "    }\n",
       "\n",
       "    .dataframe tbody tr th {\n",
       "        vertical-align: top;\n",
       "    }\n",
       "\n",
       "    .dataframe thead th {\n",
       "        text-align: right;\n",
       "    }\n",
       "</style>\n",
       "<table border=\"1\" class=\"dataframe\">\n",
       "  <thead>\n",
       "    <tr style=\"text-align: right;\">\n",
       "      <th></th>\n",
       "      <th>Category</th>\n",
       "    </tr>\n",
       "  </thead>\n",
       "  <tbody>\n",
       "    <tr>\n",
       "      <th>1</th>\n",
       "      <td>Paid before due date</td>\n",
       "    </tr>\n",
       "    <tr>\n",
       "      <th>2</th>\n",
       "      <td>Paid 30 days after due date</td>\n",
       "    </tr>\n",
       "    <tr>\n",
       "      <th>3</th>\n",
       "      <td>Paid 45 days after due date</td>\n",
       "    </tr>\n",
       "    <tr>\n",
       "      <th>4</th>\n",
       "      <td>Paid 60 days after due date</td>\n",
       "    </tr>\n",
       "  </tbody>\n",
       "</table>\n",
       "</div>"
      ],
      "text/plain": [
       "                      Category\n",
       "1         Paid before due date\n",
       "2  Paid 30 days after due date\n",
       "3  Paid 45 days after due date\n",
       "4  Paid 60 days after due date"
      ]
     },
     "execution_count": 5,
     "metadata": {},
     "output_type": "execute_result"
    }
   ],
   "source": [
    "days=30\n",
    "category=4\n",
    "category_type=[]\n",
    "for cust_category in range(category):\n",
    "    if cust_category==0:\n",
    "        category_type.append(\"Paid before due date\")\n",
    "    else:\n",
    "        category_type.append(\"Paid %d days after due date\"%days)\n",
    "        days+=15\n",
    "Data=pd.DataFrame({'Category':category_type},index=np.arange(1,category+1))\n",
    "Data"
   ]
  },
  {
   "cell_type": "markdown",
   "metadata": {},
   "source": [
    "# Interest Calculation"
   ]
  },
  {
   "cell_type": "markdown",
   "metadata": {},
   "source": [
    "**General formula to calculate interest on credit card: (Number of days are counted from the date of transaction made x Entire outstanding amount x Interest rate per month x 12 month)/365.**"
   ]
  },
  {
   "cell_type": "code",
   "execution_count": 6,
   "metadata": {},
   "outputs": [],
   "source": [
    "def interest_cal(payment_days):\n",
    "    #billing cycle start from 1st of eevery month\n",
    "    avg_day_trans= 15 #assume average day transcation as 15th of billing cycle\n",
    "    if payment_days==category_type[0]:\n",
    "        Interest_per_card=0\n",
    "    elif payment_days==category_type[1]:\n",
    "        Interest_per_card=((avg_day_trans+30)*monthly_bal*int_rate)/365 #assuming given intereset rate is for 1 year \n",
    "    elif payment_days==category_type[2]:\n",
    "        Interest_per_card=((avg_day_trans+45)*monthly_bal*int_rate)/365\n",
    "    else:\n",
    "        Interest_per_card=((avg_day_trans+60)*monthly_bal*int_rate)/365\n",
    "    return Interest_per_card\n",
    "def total_int(col):\n",
    "    payment_days=col[0]\n",
    "    Interest_per_card=col[1]\n",
    "    if payment_days==category_type[0]:\n",
    "        total_interest=0\n",
    "#Interest for customers who are late by 30 days\n",
    "    elif payment_days==category_type[1]:\n",
    "        total_interest=12*Interest_per_card*cust_30_days\n",
    "#Interest for customers who are late by 45 days\n",
    "    elif payment_days==category_type[2]:\n",
    "        total_interest=12*Interest_per_card*cust_45_days\n",
    "#Interest for all customers who are late by 60 days, remove these customers after non payment\n",
    "    else:\n",
    "        total_interest=12*Interest_per_card*cust_60_days\n",
    "    return total_interest\n",
    "\n"
   ]
  },
  {
   "cell_type": "code",
   "execution_count": 7,
   "metadata": {},
   "outputs": [
    {
     "data": {
      "text/html": [
       "<div>\n",
       "<style scoped>\n",
       "    .dataframe tbody tr th:only-of-type {\n",
       "        vertical-align: middle;\n",
       "    }\n",
       "\n",
       "    .dataframe tbody tr th {\n",
       "        vertical-align: top;\n",
       "    }\n",
       "\n",
       "    .dataframe thead th {\n",
       "        text-align: right;\n",
       "    }\n",
       "</style>\n",
       "<table border=\"1\" class=\"dataframe\">\n",
       "  <thead>\n",
       "    <tr style=\"text-align: right;\">\n",
       "      <th></th>\n",
       "      <th>Category</th>\n",
       "      <th>Estimated_Interest_on_Default</th>\n",
       "    </tr>\n",
       "  </thead>\n",
       "  <tbody>\n",
       "    <tr>\n",
       "      <th>1</th>\n",
       "      <td>Paid before due date</td>\n",
       "      <td>0.00</td>\n",
       "    </tr>\n",
       "    <tr>\n",
       "      <th>2</th>\n",
       "      <td>Paid 30 days after due date</td>\n",
       "      <td>18.49</td>\n",
       "    </tr>\n",
       "    <tr>\n",
       "      <th>3</th>\n",
       "      <td>Paid 45 days after due date</td>\n",
       "      <td>24.66</td>\n",
       "    </tr>\n",
       "    <tr>\n",
       "      <th>4</th>\n",
       "      <td>Paid 60 days after due date</td>\n",
       "      <td>30.82</td>\n",
       "    </tr>\n",
       "  </tbody>\n",
       "</table>\n",
       "</div>"
      ],
      "text/plain": [
       "                      Category  Estimated_Interest_on_Default\n",
       "1         Paid before due date                           0.00\n",
       "2  Paid 30 days after due date                          18.49\n",
       "3  Paid 45 days after due date                          24.66\n",
       "4  Paid 60 days after due date                          30.82"
      ]
     },
     "execution_count": 7,
     "metadata": {},
     "output_type": "execute_result"
    }
   ],
   "source": [
    "Data['Estimated_Interest_on_Default']=Data['Category'].apply(interest_cal).round(2)\n",
    "Data"
   ]
  },
  {
   "cell_type": "code",
   "execution_count": 10,
   "metadata": {},
   "outputs": [],
   "source": [
    "def total_int(col):\n",
    "    payment_days=col[0]\n",
    "    Interest_per_card=col[1]\n",
    "    if payment_days==category_type[0]:\n",
    "        total_interest=0\n",
    "#Interest for customers who are late by 30 days\n",
    "    elif payment_days==category_type[1]:\n",
    "        total_interest=12*Interest_per_card*cust_30_days\n",
    "#Interest for customers who are late by 45 days\n",
    "    elif payment_days==category_type[2]:\n",
    "        total_interest=12*Interest_per_card*cust_45_days\n",
    "#Interest for all customers who are late by 60 days, remove these customers after non payment\n",
    "    else:\n",
    "        total_interest=12*Interest_per_card*cust_60_days\n",
    "    return total_interest\n",
    "\n",
    "    "
   ]
  },
  {
   "cell_type": "code",
   "execution_count": 11,
   "metadata": {},
   "outputs": [],
   "source": [
    "Data[\"total interest for 1yr\"]=Data[[\"Category\",\"Estimated_Interest_on_Default\"]].apply(total_int,axis=1)"
   ]
  },
  {
   "cell_type": "code",
   "execution_count": 12,
   "metadata": {},
   "outputs": [
    {
     "data": {
      "text/html": [
       "<div>\n",
       "<style scoped>\n",
       "    .dataframe tbody tr th:only-of-type {\n",
       "        vertical-align: middle;\n",
       "    }\n",
       "\n",
       "    .dataframe tbody tr th {\n",
       "        vertical-align: top;\n",
       "    }\n",
       "\n",
       "    .dataframe thead th {\n",
       "        text-align: right;\n",
       "    }\n",
       "</style>\n",
       "<table border=\"1\" class=\"dataframe\">\n",
       "  <thead>\n",
       "    <tr style=\"text-align: right;\">\n",
       "      <th></th>\n",
       "      <th>Category</th>\n",
       "      <th>Estimated_Interest_on_Default</th>\n",
       "      <th>total interest for 1yr</th>\n",
       "    </tr>\n",
       "  </thead>\n",
       "  <tbody>\n",
       "    <tr>\n",
       "      <th>1</th>\n",
       "      <td>Paid before due date</td>\n",
       "      <td>0.00</td>\n",
       "      <td>0.0</td>\n",
       "    </tr>\n",
       "    <tr>\n",
       "      <th>2</th>\n",
       "      <td>Paid 30 days after due date</td>\n",
       "      <td>18.49</td>\n",
       "      <td>4437.6</td>\n",
       "    </tr>\n",
       "    <tr>\n",
       "      <th>3</th>\n",
       "      <td>Paid 45 days after due date</td>\n",
       "      <td>24.66</td>\n",
       "      <td>5918.4</td>\n",
       "    </tr>\n",
       "    <tr>\n",
       "      <th>4</th>\n",
       "      <td>Paid 60 days after due date</td>\n",
       "      <td>30.82</td>\n",
       "      <td>3698.4</td>\n",
       "    </tr>\n",
       "  </tbody>\n",
       "</table>\n",
       "</div>"
      ],
      "text/plain": [
       "                      Category  Estimated_Interest_on_Default  \\\n",
       "1         Paid before due date                           0.00   \n",
       "2  Paid 30 days after due date                          18.49   \n",
       "3  Paid 45 days after due date                          24.66   \n",
       "4  Paid 60 days after due date                          30.82   \n",
       "\n",
       "   total interest for 1yr  \n",
       "1                     0.0  \n",
       "2                  4437.6  \n",
       "3                  5918.4  \n",
       "4                  3698.4  "
      ]
     },
     "execution_count": 12,
     "metadata": {},
     "output_type": "execute_result"
    }
   ],
   "source": [
    "Data"
   ]
  },
  {
   "cell_type": "code",
   "execution_count": 32,
   "metadata": {},
   "outputs": [],
   "source": [
    "def Profit_or_loss_check(): # Column name based on profit/loss\n",
    "    if net_profit>=0:\n",
    "        return 'Profit margin in percentage'\n",
    "    else:\n",
    "        return 'Loss margin in percentage'"
   ]
  },
  {
   "cell_type": "markdown",
   "metadata": {},
   "source": [
    "# **Profit Generated**"
   ]
  },
  {
   "cell_type": "code",
   "execution_count": 37,
   "metadata": {},
   "outputs": [],
   "source": [
    "#net profit=(earning-expenses)/expenses\n",
    "expenses=cost_of_funds+operating_cost+(loss_rate*total_cust*monthly_bal)\n",
    "earnings=membership_card+affiliation_fee+np.sum(Data[\"total interest for 1yr\"])\n",
    "margin=earnings-expenses\n",
    "net_profit=(margin/expenses)*100"
   ]
  },
  {
   "cell_type": "code",
   "execution_count": 38,
   "metadata": {},
   "outputs": [],
   "source": [
    "report_df=pd.DataFrame({'expenses':expenses,'Earnings':earnings,'margin':margin,Profit_or_loss_check():net_profit.round()},index=[0])"
   ]
  },
  {
   "cell_type": "code",
   "execution_count": 39,
   "metadata": {},
   "outputs": [
    {
     "data": {
      "text/html": [
       "<div>\n",
       "<style scoped>\n",
       "    .dataframe tbody tr th:only-of-type {\n",
       "        vertical-align: middle;\n",
       "    }\n",
       "\n",
       "    .dataframe tbody tr th {\n",
       "        vertical-align: top;\n",
       "    }\n",
       "\n",
       "    .dataframe thead th {\n",
       "        text-align: right;\n",
       "    }\n",
       "</style>\n",
       "<table border=\"1\" class=\"dataframe\">\n",
       "  <thead>\n",
       "    <tr style=\"text-align: right;\">\n",
       "      <th></th>\n",
       "      <th>expenses</th>\n",
       "      <th>Earnings</th>\n",
       "      <th>margin</th>\n",
       "      <th>Profit margin in percentage</th>\n",
       "    </tr>\n",
       "  </thead>\n",
       "  <tbody>\n",
       "    <tr>\n",
       "      <th>0</th>\n",
       "      <td>330780.0</td>\n",
       "      <td>374054.4</td>\n",
       "      <td>43274.4</td>\n",
       "      <td>13.0</td>\n",
       "    </tr>\n",
       "  </tbody>\n",
       "</table>\n",
       "</div>"
      ],
      "text/plain": [
       "   expenses  Earnings   margin  Profit margin in percentage\n",
       "0  330780.0  374054.4  43274.4                         13.0"
      ]
     },
     "execution_count": 39,
     "metadata": {},
     "output_type": "execute_result"
    }
   ],
   "source": [
    "report_df"
   ]
  },
  {
   "cell_type": "code",
   "execution_count": null,
   "metadata": {},
   "outputs": [],
   "source": []
  }
 ],
 "metadata": {
  "kernelspec": {
   "display_name": "Python 3",
   "language": "python",
   "name": "python3"
  },
  "language_info": {
   "codemirror_mode": {
    "name": "ipython",
    "version": 3
   },
   "file_extension": ".py",
   "mimetype": "text/x-python",
   "name": "python",
   "nbconvert_exporter": "python",
   "pygments_lexer": "ipython3",
   "version": "3.8.5"
  }
 },
 "nbformat": 4,
 "nbformat_minor": 4
}
